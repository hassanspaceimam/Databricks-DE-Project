{
 "cells": [
  {
   "cell_type": "code",
   "execution_count": 0,
   "metadata": {
    "application/vnd.databricks.v1+cell": {
     "cellMetadata": {
      "byteLimit": 2048000,
      "rowLimit": 10000
     },
     "inputWidgets": {},
     "nuid": "60ccd8fc-bd2c-44c0-af70-12ecca695def",
     "showTitle": false,
     "tableResultSettingsMap": {},
     "title": ""
    }
   },
   "outputs": [],
   "source": [
    "\n",
    "processName=dbutils.widgets.get(\"prm_processName\")\n",
    "nextSourceFileDateSql=f\"\"\"\n",
    "SELECT \n",
    "MAX(PROCESSED_FILE_TABLE_DATE)+1 AS NEXT_SOURCE_FILE_DATE\n",
    "FROM\n",
    "processrunlogs.DELTALAKEHOUSE_PROCESS_RUNS \n",
    "WHERE \n",
    "PROCESS_NAME = '{processName}' AND PROCESS_STATUS = 'Completed'\n",
    "\"\"\"\n",
    "\n",
    "print(nextSourceFileDateSql)\n",
    "\n",
    "nextSourceFileDateDF= spark.sql(nextSourceFileDateSql)\n",
    "display(nextSourceFileDateDF.select('NEXT_SOURCE_FILE_DATE').collect()[0]['NEXT_SOURCE_FILE_DATE'])"
   ]
  },
  {
   "cell_type": "code",
   "execution_count": 0,
   "metadata": {
    "application/vnd.databricks.v1+cell": {
     "cellMetadata": {
      "byteLimit": 2048000,
      "rowLimit": 10000
     },
     "inputWidgets": {},
     "nuid": "178cc3c8-cf60-4f2b-93ed-f5d90c14821b",
     "showTitle": false,
     "tableResultSettingsMap": {},
     "title": ""
    }
   },
   "outputs": [],
   "source": [
    "from datetime import datetime\n",
    "dbutils.widgets.text(\"prm_dailyPricingSourceFileDate\",\"\")\n",
    "print((datetime.strptime(dbutils.widgets.get(\"prm_dailyPricingSourceFileDate\"),'%Y-%m-%d')).strftime('%d%m%Y'))\n"
   ]
  },
  {
   "cell_type": "code",
   "execution_count": 0,
   "metadata": {
    "application/vnd.databricks.v1+cell": {
     "cellMetadata": {
      "byteLimit": 2048000,
      "rowLimit": 10000
     },
     "inputWidgets": {},
     "nuid": "81f784e0-ca41-4382-a9b7-50484c5b953c",
     "showTitle": false,
     "tableResultSettingsMap": {},
     "title": ""
    }
   },
   "outputs": [],
   "source": [
    "sourceFileURL=\"https://retailpricing.blob.core.windows.net/labs/lab1/PW_MW_DR_01012023.csv\"\n",
    "\n",
    "bronzelayerCSVFilePath= \"abfss://testingfiles@datalakestorageaccountname.dfs.core.windows.net/daily-pricing/csv\""
   ]
  },
  {
   "cell_type": "code",
   "execution_count": 0,
   "metadata": {
    "application/vnd.databricks.v1+cell": {
     "cellMetadata": {
      "byteLimit": 2048000,
      "rowLimit": 10000
     },
     "inputWidgets": {},
     "nuid": "9b2d25e8-e9a7-4273-a512-413b5c6219a4",
     "showTitle": false,
     "tableResultSettingsMap": {},
     "title": ""
    }
   },
   "outputs": [],
   "source": [
    "dailyPricingSourceBaseURL=\"https://retailpricing.blob.core.windows.net/\"\n",
    "dailyPricingSourceBaseFolder=\"daily-pricing/\"\n",
    "dailyPricingSourceFileDate= (datetime.strptime(str(nextSourceFileDateDF.select('NEXT_SOURCE_FILE_DATE').collect()[0]['NEXT_SOURCE_FILE_DATE']),'%Y-%m-%d')).strftime('%d%m%Y')\n",
    "dailyPricingSourceFileName=f\"PW_MW_DR_{dailyPricingSourceFileDate}.csv\"\n",
    "\n",
    "print(dailyPricingSourceFileName)\n",
    "\n",
    "dailyPricingSinkLayerName = \"bronze\"\n",
    "dailyPricingSinkStorageAccountName= \"adlsdatalakedeve\"\n",
    "dailyPricingSinkFolderName= \"daily-pricing\""
   ]
  },
  {
   "cell_type": "code",
   "execution_count": 0,
   "metadata": {
    "application/vnd.databricks.v1+cell": {
     "cellMetadata": {
      "byteLimit": 2048000,
      "rowLimit": 10000
     },
     "inputWidgets": {},
     "nuid": "bea4c1cf-e6ca-4c8d-be18-9ca3c4347351",
     "showTitle": false,
     "tableResultSettingsMap": {},
     "title": ""
    }
   },
   "outputs": [],
   "source": [
    "import pandas as pds"
   ]
  },
  {
   "cell_type": "code",
   "execution_count": 0,
   "metadata": {
    "application/vnd.databricks.v1+cell": {
     "cellMetadata": {
      "byteLimit": 2048000,
      "rowLimit": 10000
     },
     "inputWidgets": {},
     "nuid": "5cb68f3c-ce51-46c8-8bf2-5998b7c27b9b",
     "showTitle": false,
     "tableResultSettingsMap": {},
     "title": ""
    }
   },
   "outputs": [],
   "source": [
    "dailyPricingSourceFileURL= dailyPricingSourceBaseURL+dailyPricingSourceBaseFolder+dailyPricingSourceFileName\n",
    "print(dailyPricingSourceFileURL)"
   ]
  },
  {
   "cell_type": "code",
   "execution_count": 0,
   "metadata": {
    "application/vnd.databricks.v1+cell": {
     "cellMetadata": {
      "byteLimit": 2048000,
      "rowLimit": 10000
     },
     "inputWidgets": {},
     "nuid": "92c4a2b3-81db-4b03-b5af-26d4455b2d09",
     "showTitle": false,
     "tableResultSettingsMap": {},
     "title": ""
    }
   },
   "outputs": [],
   "source": [
    "dailyPricingPandasDF=pds.read_csv(dailyPricingSourceFileURL)\n",
    "display(dailyPricingPandasDF)"
   ]
  },
  {
   "cell_type": "code",
   "execution_count": 0,
   "metadata": {
    "application/vnd.databricks.v1+cell": {
     "cellMetadata": {
      "byteLimit": 2048000,
      "rowLimit": 10000
     },
     "inputWidgets": {},
     "nuid": "432b7ebb-9f9d-4b37-b82b-ce0fba317373",
     "showTitle": false,
     "tableResultSettingsMap": {},
     "title": ""
    }
   },
   "outputs": [],
   "source": [
    "dailyPricingSparkDF= spark.createDataFrame(dailyPricingPandasDF)"
   ]
  },
  {
   "cell_type": "code",
   "execution_count": 0,
   "metadata": {
    "application/vnd.databricks.v1+cell": {
     "cellMetadata": {
      "byteLimit": 2048000,
      "rowLimit": 10000
     },
     "inputWidgets": {},
     "nuid": "90656dae-61af-4ed3-be4d-b1dfe42a28eb",
     "showTitle": false,
     "tableResultSettingsMap": {},
     "title": ""
    }
   },
   "outputs": [],
   "source": [
    "dailyPricingSinkFolderPath=f\"abfss://{dailyPricingSinkLayerName}@{dailyPricingSinkStorageAccountName}.dfs.core.windows.net/{dailyPricingSinkFolderName}\"\n",
    "print(dailyPricingSinkFolderPath)\n"
   ]
  },
  {
   "cell_type": "code",
   "execution_count": 0,
   "metadata": {
    "application/vnd.databricks.v1+cell": {
     "cellMetadata": {
      "byteLimit": 2048000,
      "rowLimit": 10000
     },
     "inputWidgets": {},
     "nuid": "590d344b-296d-4908-aa6e-e44454f9dd63",
     "showTitle": false,
     "tableResultSettingsMap": {},
     "title": ""
    }
   },
   "outputs": [],
   "source": [
    "dbutils.fs.ls(dailyPricingSinkFolderPath)"
   ]
  },
  {
   "cell_type": "code",
   "execution_count": 0,
   "metadata": {
    "application/vnd.databricks.v1+cell": {
     "cellMetadata": {
      "byteLimit": 2048000,
      "rowLimit": 10000
     },
     "inputWidgets": {},
     "nuid": "c334ad3c-0403-49de-bd06-4de9c133fea9",
     "showTitle": false,
     "tableResultSettingsMap": {},
     "title": ""
    }
   },
   "outputs": [],
   "source": [
    "(\n",
    "    dailyPricingSparkDF\n",
    "    .write\n",
    "    .format('csv')\n",
    "    .mode('overwrite')\n",
    "    .option('header', True)\n",
    "    .save(dailyPricingSinkFolderPath)\n",
    "\n",
    ")"
   ]
  },
  {
   "cell_type": "code",
   "execution_count": 0,
   "metadata": {
    "application/vnd.databricks.v1+cell": {
     "cellMetadata": {
      "byteLimit": 2048000,
      "rowLimit": 10000
     },
     "inputWidgets": {},
     "nuid": "8382bbeb-d543-455d-b8cb-43316a61364b",
     "showTitle": false,
     "tableResultSettingsMap": {},
     "title": ""
    }
   },
   "outputs": [],
   "source": [
    "spark.read.format('csv').option('header',True).load(dailyPricingSinkFolderPath).display()"
   ]
  },
  {
   "cell_type": "code",
   "execution_count": 0,
   "metadata": {
    "application/vnd.databricks.v1+cell": {
     "cellMetadata": {
      "byteLimit": 2048000,
      "implicitDf": true,
      "rowLimit": 10000
     },
     "inputWidgets": {},
     "nuid": "448d4f70-07c8-4e22-914a-159d74b8cbad",
     "showTitle": false,
     "tableResultSettingsMap": {},
     "title": ""
    }
   },
   "outputs": [],
   "source": [
    "%sql\n",
    "USE CATALOG pricing_analytics;\n",
    "\n",
    "CREATE SCHEMA IF NOT EXISTS processrunlogs;\n",
    "\n",
    "CREATE TABLE IF NOT EXISTS processrunlogs.DELTALAKEHOUSE_PROCESS_RUNS(\n",
    "  PROCESS_NAME STRING,\n",
    "  PROCESSED_FILE_TABLE_DATE DATE,\n",
    "  PROCESS_STATUS STRING\n",
    ")"
   ]
  },
  {
   "cell_type": "code",
   "execution_count": 0,
   "metadata": {
    "application/vnd.databricks.v1+cell": {
     "cellMetadata": {
      "byteLimit": 2048000,
      "rowLimit": 10000
     },
     "inputWidgets": {},
     "nuid": "7e24cc5b-75e1-460f-9a3a-41f76f0c4706",
     "showTitle": false,
     "tableResultSettingsMap": {},
     "title": ""
    }
   },
   "outputs": [],
   "source": [
    "processName='dailyPricingSourceIngest'\n",
    "processFileDate = dbutils.widgets.get('prm_dailyPricingSourceFileDate')\n",
    "processStatus = 'Completed'\n",
    "\n",
    "processInsertSql = f\"\"\"INSERT INTO processrunlogs.DELTALAKEHOUSE_PROCESS_RUNS VALUES('{processName}','{processFileDate}','{processStatus}')\"\"\"\n",
    "\n",
    "spark.sql(processInsertSql)"
   ]
  },
  {
   "cell_type": "code",
   "execution_count": 0,
   "metadata": {
    "application/vnd.databricks.v1+cell": {
     "cellMetadata": {
      "byteLimit": 2048000,
      "implicitDf": true,
      "rowLimit": 10000
     },
     "inputWidgets": {},
     "nuid": "768b7221-59df-40b5-8c6f-2df9a6c9a5bc",
     "showTitle": false,
     "tableResultSettingsMap": {},
     "title": ""
    }
   },
   "outputs": [],
   "source": [
    "%sql\n",
    "SELECT * FROM processrunlogs.DELTALAKEHOUSE_PROCESS_RUNS "
   ]
  },
  {
   "cell_type": "code",
   "execution_count": 0,
   "metadata": {
    "application/vnd.databricks.v1+cell": {
     "cellMetadata": {
      "byteLimit": 2048000,
      "implicitDf": true,
      "rowLimit": 10000
     },
     "inputWidgets": {},
     "nuid": "49b9b92a-9bd1-476f-8acf-860e172fb2fb",
     "showTitle": false,
     "tableResultSettingsMap": {},
     "title": ""
    }
   },
   "outputs": [],
   "source": [
    "%sql\n",
    "SELECT \n",
    "MAX(PROCESSED_FILE_TABLE_DATE)+1 AS NEXT_SOURCE_FILE_DATE\n",
    "FROM\n",
    "processrunlogs.DELTALAKEHOUSE_PROCESS_RUNS \n",
    "WHERE \n",
    "PROCESS_NAME = 'dailyPricingSourceIngest' AND PROCESS_STATUS = 'Completed'"
   ]
  }
 ],
 "metadata": {
  "application/vnd.databricks.v1+notebook": {
   "computePreferences": null,
   "dashboards": [],
   "environmentMetadata": {
    "base_environment": "",
    "environment_version": "2"
   },
   "inputWidgetPreferences": null,
   "language": "python",
   "notebookMetadata": {
    "mostRecentlyExecutedCommandWithImplicitDF": {
     "commandId": 754697791059281,
     "dataframes": [
      "_sqldf"
     ]
    },
    "pythonIndentUnit": 4
   },
   "notebookName": "01-Ingestion-Daily-Pricing-HTTP-Source-Data_Clone",
   "widgets": {
    "prm_dailyPricingSourceFileDate": {
     "currentValue": "2023-01-01",
     "nuid": "f0f0e9e6-a750-41bb-a945-d112eb1ce784",
     "typedWidgetInfo": {
      "autoCreated": false,
      "defaultValue": "",
      "label": null,
      "name": "prm_dailyPricingSourceFileDate",
      "options": {
       "widgetDisplayType": "Text",
       "validationRegex": null
      },
      "parameterDataType": "String"
     },
     "widgetInfo": {
      "widgetType": "text",
      "defaultValue": "",
      "label": null,
      "name": "prm_dailyPricingSourceFileDate",
      "options": {
       "widgetType": "text",
       "autoCreated": null,
       "validationRegex": null
      }
     }
    },
    "prm_processName": {
     "currentValue": "dailyPricingSourceIngest",
     "nuid": "75317464-a0e9-4c60-b779-c9c3763de141",
     "typedWidgetInfo": {
      "autoCreated": false,
      "defaultValue": "",
      "label": "",
      "name": "prm_processName",
      "options": {
       "widgetDisplayType": "Text",
       "validationRegex": null
      },
      "parameterDataType": "String"
     },
     "widgetInfo": {
      "widgetType": "text",
      "defaultValue": "",
      "label": "",
      "name": "prm_processName",
      "options": {
       "widgetType": "text",
       "autoCreated": false,
       "validationRegex": null
      }
     }
    }
   }
  },
  "language_info": {
   "name": "python"
  }
 },
 "nbformat": 4,
 "nbformat_minor": 0
}
