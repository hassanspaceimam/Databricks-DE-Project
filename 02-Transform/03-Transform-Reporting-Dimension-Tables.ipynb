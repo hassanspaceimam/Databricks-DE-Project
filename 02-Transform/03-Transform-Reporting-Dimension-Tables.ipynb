{
 "cells": [
  {
   "cell_type": "markdown",
   "metadata": {
    "application/vnd.databricks.v1+cell": {
     "cellMetadata": {
      "byteLimit": 2048000,
      "rowLimit": 10000
     },
     "inputWidgets": {},
     "nuid": "47c1b947-39e3-4db5-b9a5-1fb5df3bb92f",
     "showTitle": false,
     "tableResultSettingsMap": {},
     "title": ""
    }
   },
   "source": [
    "| SOURCE_TABLE_NAME | SOURCE_COLUMN_NAME | REPORTING_TABLE_NAME | REPORTING_COLUMN_NAME | TRANSFORMATION RULE | CONDITIONS |\n",
    "| --- | --- |--- | --- |--- |--- |\n",
    "| silver.daily_pricing_silver\t| state_name\t|***REPORTING_DIM_STATE_GOLD***\t|***STATE_NAME***\t| Select Unique state_name Values | Identify New/Changed Records From the Source Table . Use ***lakehouse_updated_date Column*** in source table to Identify New/Changed Records|\n",
    "| DERIVED\t| DERIVED\t|***REPORTING_DIM_STATE_GOLD***\t| ***STATE_ID***\t| Generate Running Sequnece ID For Each Unique state_name Values | 1. Make Sure No Duplicate State_Name Values Loaded 2.  When loading new State_Name values in subsquent run , STATE_ID values need to be generated on top of existing MAX(STATE_ID)   |\n",
    "| DERIVED\t| DERIVED\t|***REPORTING_DIM_STATE_GOLD***\t| ***lakehouse_inserted_date***\t| Load current_timestamp() | |\n",
    "| DERIVED\t| DERIVED\t|***REPORTING_DIM_STATE_GOLD***\t| ***lakehouse_updated_date***\t| Load current_timestamp() | |"
   ]
  },
  {
   "cell_type": "code",
   "execution_count": 0,
   "metadata": {
    "application/vnd.databricks.v1+cell": {
     "cellMetadata": {
      "byteLimit": 2048000,
      "rowLimit": 10000
     },
     "inputWidgets": {},
     "nuid": "053d0ece-9170-4863-b2c1-5803cea93d33",
     "showTitle": false,
     "tableResultSettingsMap": {},
     "title": ""
    }
   },
   "outputs": [],
   "source": [
    "USE CATALOG pricing_analytics;\n",
    "\n",
    "CREATE OR REPLACE TABLE silver.reporting_dim_state_stage_1 AS\n",
    "SELECT \n",
    "  DISTINCT STATE_NAME\n",
    "FROM  \n",
    "  silver.daily_pricing_silver\n",
    "WHERE \n",
    "  lake_house_updated_date>(SELECT nvl(max(PROCESSED_TABLE_DATETIME),'1900-01-01') FROM processrunlogs.DELTALAKEHOUSE_PROCESS_RUNS WHERE PROCESS_NAME='reportingDimensionTablesLoad' AND process_status='Completed')"
   ]
  },
  {
   "cell_type": "code",
   "execution_count": 0,
   "metadata": {
    "application/vnd.databricks.v1+cell": {
     "cellMetadata": {
      "byteLimit": 2048000,
      "rowLimit": 10000
     },
     "inputWidgets": {},
     "nuid": "ee20c065-b107-43cf-bef4-69e2d20cbaec",
     "showTitle": false,
     "tableResultSettingsMap": {},
     "title": ""
    }
   },
   "outputs": [],
   "source": [
    "CREATE OR REPLACE TABLE silver.reporting_dim_state_stage_2 AS\n",
    "SELECT \n",
    "  silverDim.STATE_NAME,\n",
    "  ROW_NUMBER() OVER (ORDER BY silverDim.STATE_NAME) AS STATE_ID,\n",
    "  current_timestamp() AS lakehouse_inserted_date,\n",
    "  current_timestamp() AS lakehouse_updated_date\n",
    "  FROM \n",
    "    silver.reporting_dim_state_stage_1 AS silverDim\n",
    "  LEFT OUTER JOIN\n",
    "    gold.reporting_dim_state_gold AS goldDim\n",
    "  ON\n",
    "    silverDim.STATE_NAME=goldDim.STATE_NAME\n",
    "WHERE goldDim.STATE_NAME IS NULL"
   ]
  },
  {
   "cell_type": "code",
   "execution_count": 0,
   "metadata": {
    "application/vnd.databricks.v1+cell": {
     "cellMetadata": {
      "byteLimit": 2048000,
      "rowLimit": 10000
     },
     "inputWidgets": {},
     "nuid": "a688a038-bf7e-4bc7-b0b7-4faa65c11931",
     "showTitle": false,
     "tableResultSettingsMap": {},
     "title": ""
    }
   },
   "outputs": [],
   "source": [
    "CREATE OR REPLACE TABLE silver.reporting_dim_state_stage_3 AS\n",
    "SELECT \n",
    "  silverDim.STATE_NAME,\n",
    "  silverDim.STATE_ID + PREV_MAX_SK_ID AS STATE_ID,\n",
    "  current_timestamp() AS lakehouse_inserted_date,\n",
    "  current_timestamp() AS lakehouse_updated_date\n",
    " FROM \n",
    "  silver.reporting_dim_state_stage_2 silverDim\n",
    " CROSS JOIN (SELECT NVL(MAX(STATE_ID),0) AS PREV_MAX_SK_ID FROM gold.reporting_dim_state_gold) goldDim"
   ]
  },
  {
   "cell_type": "code",
   "execution_count": 0,
   "metadata": {
    "application/vnd.databricks.v1+cell": {
     "cellMetadata": {
      "byteLimit": 2048000,
      "rowLimit": 10000
     },
     "inputWidgets": {},
     "nuid": "782308d4-5d74-4a59-b672-28672756d1b5",
     "showTitle": false,
     "tableResultSettingsMap": {},
     "title": ""
    }
   },
   "outputs": [],
   "source": [
    "INSERT INTO gold.reporting_dim_state_gold\n",
    "SELECT \n",
    "  STATE_NAME,\n",
    "  STATE_ID,\n",
    "  current_timestamp(),\n",
    "  current_timestamp()\n",
    "FROM \n",
    "silver.reporting_dim_state_stage_3"
   ]
  }
 ],
 "metadata": {
  "application/vnd.databricks.v1+notebook": {
   "computePreferences": null,
   "dashboards": [],
   "environmentMetadata": {
    "base_environment": "",
    "environment_version": "2"
   },
   "inputWidgetPreferences": null,
   "language": "sql",
   "notebookMetadata": {
    "pythonIndentUnit": 4
   },
   "notebookName": "03-Transform-Reporting-Dimension-Tables",
   "widgets": {}
  },
  "language_info": {
   "name": "sql"
  }
 },
 "nbformat": 4,
 "nbformat_minor": 0
}
