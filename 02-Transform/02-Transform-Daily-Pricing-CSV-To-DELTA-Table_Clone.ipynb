{
 "cells": [
  {
   "cell_type": "code",
   "execution_count": 0,
   "metadata": {
    "application/vnd.databricks.v1+cell": {
     "cellMetadata": {},
     "inputWidgets": {},
     "nuid": "2f7dd7f0-805f-4565-96b3-36e056c82e0d",
     "showTitle": false,
     "tableResultSettingsMap": {},
     "title": ""
    }
   },
   "outputs": [],
   "source": [
    "SELECT * FROM pricing_analytics.bronze.daily_pricing limit 10;"
   ]
  },
  {
   "cell_type": "code",
   "execution_count": 0,
   "metadata": {
    "application/vnd.databricks.v1+cell": {
     "cellMetadata": {
      "byteLimit": 2048000,
      "rowLimit": 10000
     },
     "inputWidgets": {},
     "nuid": "39a27777-cc4c-427b-9ecb-eeb5b74cdfdc",
     "showTitle": false,
     "tableResultSettingsMap": {},
     "title": ""
    }
   },
   "outputs": [],
   "source": [
    "DESCRIBE pricing_analytics.bronze.daily_pricing"
   ]
  },
  {
   "cell_type": "code",
   "execution_count": 0,
   "metadata": {
    "application/vnd.databricks.v1+cell": {
     "cellMetadata": {
      "byteLimit": 2048000,
      "rowLimit": 10000
     },
     "inputWidgets": {},
     "nuid": "9bd862a2-f49c-4df4-acf3-1249112824a2",
     "showTitle": false,
     "tableResultSettingsMap": {},
     "title": ""
    }
   },
   "outputs": [],
   "source": [
    "SELECT\n",
    "DATE_OF_PRICING,\n",
    "ROW_ID,\n",
    "STATE_NAME,\n",
    "MARKET_NAME,\n",
    "PRODUCTGROUP_NAME,\n",
    "PRODUCT_NAME,\n",
    "VARIETY,\n",
    "ORIGIN,\n",
    "ARRIVAL_IN_TONNES,\n",
    "MINIMUM_PRICE,\n",
    "MAXIMUM_PRICE,\n",
    "MODAL_PRICE,\n",
    "source_file_load_date\n",
    "FROM\n",
    "pricing_analytics.bronze.daily_pricing limit 10;"
   ]
  },
  {
   "cell_type": "code",
   "execution_count": 0,
   "metadata": {
    "application/vnd.databricks.v1+cell": {
     "cellMetadata": {
      "byteLimit": 2048000,
      "rowLimit": 10000
     },
     "inputWidgets": {},
     "nuid": "f34a83e9-8f37-412b-9125-6e16938e29e2",
     "showTitle": false,
     "tableResultSettingsMap": {},
     "title": ""
    }
   },
   "outputs": [],
   "source": [
    "USE CATALOG pricing_analytics;\n",
    "CREATE SCHEMA IF NOT EXISTS silver;\n",
    "DROP TABLE IF EXISTS silver.daily_pricing_silver;\n",
    "CREATE TABLE IF NOT EXISTS silver.daily_pricing_silver(\n",
    "DATE_OF_PRICING date,\n",
    "ROW_ID bigint,\n",
    "STATE_NAME string,\n",
    "MARKET_NAME string,\n",
    "PRODUCTGROUP_NAME string,\n",
    "PRODUCT_NAME string,\n",
    "VARIETY string,\n",
    "ORIGIN string,\n",
    "ARRIVAL_IN_TONNES decimal(18,2),\n",
    "MINIMUM_PRICE decimal(36,2),\n",
    "MAXIMUM_PRICE decimal(36,2),\n",
    "MODAL_PRICE decimal(36,2),\n",
    "source_file_load_date timestamp,\n",
    "lakehouse_inserted_date TIMESTAMP,\n",
    "lake_house_updated_date TIMESTAMP   \n",
    ")\n"
   ]
  },
  {
   "cell_type": "code",
   "execution_count": 0,
   "metadata": {
    "application/vnd.databricks.v1+cell": {
     "cellMetadata": {
      "byteLimit": 2048000,
      "rowLimit": 10000
     },
     "inputWidgets": {},
     "nuid": "11a6a77f-dd69-4c0e-bfa5-9890b48d5bb5",
     "showTitle": false,
     "tableResultSettingsMap": {},
     "title": ""
    }
   },
   "outputs": [],
   "source": [
    "USE CATALOG pricing_analytics;\n",
    "INSERT INTO silver.daily_pricing_silver\n",
    "SELECT\n",
    "to_date(DATE_OF_PRICING,'dd/MM/yyyy'),\n",
    "cast(ROW_ID AS bigint),\n",
    "STATE_NAME,\n",
    "MARKET_NAME,\n",
    "PRODUCTGROUP_NAME,\n",
    "PRODUCT_NAME,\n",
    "VARIETY,\n",
    "ORIGIN,\n",
    "cast(ARRIVAL_IN_TONNES AS decimal(18,2)),\n",
    "cast(MINIMUM_PRICE AS decimal(36,2)),\n",
    "cast(MAXIMUM_PRICE AS decimal(36,2)),\n",
    "cast(MODAL_PRICE AS decimal(36,2)),\n",
    "source_file_load_date,\n",
    "current_timestamp(),\n",
    "current_timestamp()\n",
    "FROM\n",
    "pricing_analytics.bronze.daily_pricing \n",
    "LIMIT 10;\n"
   ]
  },
  {
   "cell_type": "code",
   "execution_count": 0,
   "metadata": {
    "application/vnd.databricks.v1+cell": {
     "cellMetadata": {
      "byteLimit": 2048000,
      "rowLimit": 10000
     },
     "inputWidgets": {},
     "nuid": "3e1e0844-e6de-4397-83ff-5cd757c4500c",
     "showTitle": false,
     "tableResultSettingsMap": {},
     "title": ""
    }
   },
   "outputs": [],
   "source": [
    "SELECT * FROM pricing_analytics.processrunlogs.deltalakehouse_process_runs"
   ]
  },
  {
   "cell_type": "code",
   "execution_count": 0,
   "metadata": {
    "application/vnd.databricks.v1+cell": {
     "cellMetadata": {
      "byteLimit": 2048000,
      "rowLimit": 10000
     },
     "inputWidgets": {},
     "nuid": "3402306c-4df8-4da2-95fb-b401f0f0c064",
     "showTitle": false,
     "tableResultSettingsMap": {},
     "title": ""
    }
   },
   "outputs": [],
   "source": [
    "DESCRIBE pricing_analytics.processrunlogs.deltalakehouse_process_runs"
   ]
  },
  {
   "cell_type": "code",
   "execution_count": 0,
   "metadata": {
    "application/vnd.databricks.v1+cell": {
     "cellMetadata": {
      "byteLimit": 2048000,
      "rowLimit": 10000
     },
     "inputWidgets": {},
     "nuid": "a3691b04-7368-4ed1-be54-362ab4e7d8cb",
     "showTitle": false,
     "tableResultSettingsMap": {},
     "title": ""
    }
   },
   "outputs": [],
   "source": [
    "ALTER TABLE pricing_analytics.processrunlogs.deltalakehouse_process_runs\n",
    "ADD COLUMNS (PROCESSED_TABLE_DATETIME TIMESTAMP);"
   ]
  },
  {
   "cell_type": "code",
   "execution_count": 0,
   "metadata": {
    "application/vnd.databricks.v1+cell": {
     "cellMetadata": {
      "byteLimit": 2048000,
      "rowLimit": 10000
     },
     "inputWidgets": {},
     "nuid": "404e65ea-52a6-464f-8aa3-59350a83d8ac",
     "showTitle": false,
     "tableResultSettingsMap": {},
     "title": ""
    }
   },
   "outputs": [],
   "source": [
    "SELECT 'daily_pricing_silver', max(source_file_load_date),'Completed' FROM pricing_analytics.bronze.daily_pricing"
   ]
  },
  {
   "cell_type": "code",
   "execution_count": 0,
   "metadata": {
    "application/vnd.databricks.v1+cell": {
     "cellMetadata": {
      "byteLimit": 2048000,
      "rowLimit": 10000
     },
     "inputWidgets": {},
     "nuid": "32df444c-e068-462f-88f7-0259c559fdbc",
     "showTitle": false,
     "tableResultSettingsMap": {},
     "title": ""
    }
   },
   "outputs": [],
   "source": [
    "INSERT INTO pricing_analytics.processrunlogs.deltalakehouse_process_runs (PROCESS_NAME, PROCESSED_TABLE_DATETIME,PROCESS_STATUS)\n",
    "SELECT 'daily_pricing_silver', max(source_file_load_date),'Completed' FROM pricing_analytics.bronze.daily_pricing"
   ]
  },
  {
   "cell_type": "code",
   "execution_count": 0,
   "metadata": {
    "application/vnd.databricks.v1+cell": {
     "cellMetadata": {
      "byteLimit": 2048000,
      "rowLimit": 10000
     },
     "inputWidgets": {},
     "nuid": "e140348b-571b-4cd0-a079-6f153d30515a",
     "showTitle": false,
     "tableResultSettingsMap": {},
     "title": ""
    }
   },
   "outputs": [],
   "source": [
    "USE CATALOG pricing_analytics;\n",
    "--INSERT INTO silver.daily_pricing_silver\n",
    "SELECT\n",
    "to_date(DATE_OF_PRICING,'dd/MM/yyyy'),\n",
    "cast(ROW_ID AS bigint),\n",
    "STATE_NAME,\n",
    "MARKET_NAME,\n",
    "PRODUCTGROUP_NAME,\n",
    "PRODUCT_NAME,\n",
    "VARIETY,\n",
    "ORIGIN,\n",
    "cast(ARRIVAL_IN_TONNES AS decimal(18,2)),\n",
    "cast(MINIMUM_PRICE AS decimal(36,2)),\n",
    "cast(MAXIMUM_PRICE AS decimal(36,2)),\n",
    "cast(MODAL_PRICE AS decimal(36,2)),\n",
    "source_file_load_date,\n",
    "current_timestamp(),\n",
    "current_timestamp()\n",
    "FROM\n",
    "pricing_analytics.bronze.daily_pricing \n",
    "WHERE source_file_load_date> (SELECT max(PROCESSED_TABLE_DATETIME) FROM pricing_analytics.processrunlogs.deltalakehouse_process_runs WHERE PROCESS_NAME='daily_pricing_silver' AND PROCESS_STATUS='Completed')\n"
   ]
  },
  {
   "cell_type": "code",
   "execution_count": 0,
   "metadata": {
    "application/vnd.databricks.v1+cell": {
     "cellMetadata": {
      "byteLimit": 2048000,
      "rowLimit": 10000
     },
     "inputWidgets": {},
     "nuid": "874e6f04-705c-4e50-a8a6-66293795897f",
     "showTitle": false,
     "tableResultSettingsMap": {},
     "title": ""
    }
   },
   "outputs": [],
   "source": [
    "DELETE FROM silver.daily_pricing_silver;\n",
    "DELETE FROM processrunlogs.deltalakehouse_process_runs WHERE PROCESS_NAME='daily_pricing_silver';"
   ]
  },
  {
   "cell_type": "code",
   "execution_count": 0,
   "metadata": {
    "application/vnd.databricks.v1+cell": {
     "cellMetadata": {
      "byteLimit": 2048000,
      "rowLimit": 10000
     },
     "inputWidgets": {},
     "nuid": "d2c35da1-af03-4a06-93bd-0f614fc5327f",
     "showTitle": false,
     "tableResultSettingsMap": {},
     "title": ""
    }
   },
   "outputs": [],
   "source": [
    "SELECT max(PROCESSED_TABLE_DATETIME) FROM pricing_analytics.processrunlogs.deltalakehouse_process_runs WHERE PROCESS_NAME='daily_pricing_silver' AND PROCESS_STATUS='Completed'"
   ]
  },
  {
   "cell_type": "code",
   "execution_count": 0,
   "metadata": {
    "application/vnd.databricks.v1+cell": {
     "cellMetadata": {
      "byteLimit": 2048000,
      "rowLimit": 10000
     },
     "inputWidgets": {},
     "nuid": "740a8c78-5715-4715-903a-4f3b1489278a",
     "showTitle": false,
     "tableResultSettingsMap": {},
     "title": ""
    }
   },
   "outputs": [],
   "source": [
    "SELECT nvl(max(PROCESSED_TABLE_DATETIME),'1900-01-01') FROM pricing_analytics.processrunlogs.deltalakehouse_process_runs WHERE PROCESS_NAME='daily_pricing_silver' AND PROCESS_STATUS='Completed'"
   ]
  },
  {
   "cell_type": "code",
   "execution_count": 0,
   "metadata": {
    "application/vnd.databricks.v1+cell": {
     "cellMetadata": {
      "byteLimit": 2048000,
      "rowLimit": 10000
     },
     "inputWidgets": {},
     "nuid": "be70c1bc-4fcb-4dcd-b2b5-5221fe9476f7",
     "showTitle": false,
     "tableResultSettingsMap": {},
     "title": ""
    }
   },
   "outputs": [],
   "source": [
    "USE CATALOG pricing_analytics;\n",
    "--INSERT INTO silver.daily_pricing_silver\n",
    "SELECT\n",
    "to_date(DATE_OF_PRICING,'dd/MM/yyyy'),\n",
    "cast(ROW_ID AS bigint),\n",
    "STATE_NAME,\n",
    "MARKET_NAME,\n",
    "PRODUCTGROUP_NAME,\n",
    "PRODUCT_NAME,\n",
    "VARIETY,\n",
    "ORIGIN,\n",
    "cast(ARRIVAL_IN_TONNES AS decimal(18,2)),\n",
    "cast(MINIMUM_PRICE AS decimal(36,2)),\n",
    "cast(MAXIMUM_PRICE AS decimal(36,2)),\n",
    "cast(MODAL_PRICE AS decimal(36,2)),\n",
    "source_file_load_date,\n",
    "current_timestamp(),\n",
    "current_timestamp()\n",
    "FROM\n",
    "pricing_analytics.bronze.daily_pricing \n",
    "WHERE source_file_load_date> (SELECT nvl(max(PROCESSED_TABLE_DATETIME),'1900-01-01') FROM pricing_analytics.processrunlogs.deltalakehouse_process_runs WHERE PROCESS_NAME='daily_pricing_silver' AND PROCESS_STATUS='Completed')"
   ]
  },
  {
   "cell_type": "code",
   "execution_count": 0,
   "metadata": {
    "application/vnd.databricks.v1+cell": {
     "cellMetadata": {
      "byteLimit": 2048000,
      "rowLimit": 10000
     },
     "inputWidgets": {},
     "nuid": "34052fe3-4b0d-4443-a339-14f137656c09",
     "showTitle": false,
     "tableResultSettingsMap": {},
     "title": ""
    }
   },
   "outputs": [],
   "source": [
    "USE CATALOG pricing_analytics;\n",
    "INSERT INTO silver.daily_pricing_silver\n",
    "\n",
    "SELECT\n",
    "to_date(DATE_OF_PRICING,'dd/MM/yyyy'),\n",
    "cast(ROW_ID AS bigint),\n",
    "STATE_NAME,\n",
    "MARKET_NAME,\n",
    "PRODUCTGROUP_NAME,\n",
    "PRODUCT_NAME,\n",
    "VARIETY,\n",
    "ORIGIN,\n",
    "cast(ARRIVAL_IN_TONNES AS decimal(18,2)),\n",
    "cast(MINIMUM_PRICE AS decimal(36,2)),\n",
    "cast(MAXIMUM_PRICE AS decimal(36,2)),\n",
    "cast(MODAL_PRICE AS decimal(36,2)),\n",
    "source_file_load_date,\n",
    "current_timestamp(),\n",
    "current_timestamp()\n",
    "FROM\n",
    "pricing_analytics.bronze.daily_pricing \n",
    "WHERE source_file_load_date> (SELECT nvl(max(PROCESSED_TABLE_DATETIME),'1900-01-01') FROM pricing_analytics.processrunlogs.deltalakehouse_process_runs WHERE PROCESS_NAME='daily_pricing_silver' AND PROCESS_STATUS='Completed')"
   ]
  },
  {
   "cell_type": "code",
   "execution_count": 0,
   "metadata": {
    "application/vnd.databricks.v1+cell": {
     "cellMetadata": {
      "byteLimit": 2048000,
      "rowLimit": 10000
     },
     "inputWidgets": {},
     "nuid": "654e4852-dc74-46d8-b8af-b9748dae031e",
     "showTitle": false,
     "tableResultSettingsMap": {},
     "title": ""
    }
   },
   "outputs": [],
   "source": [
    "INSERT INTO pricing_analytics.processrunlogs.deltalakehouse_process_runs (PROCESS_NAME, PROCESSED_TABLE_DATETIME,PROCESS_STATUS)\n",
    "SELECT 'daily_pricing_silver', max(source_file_load_date),'Completed' FROM pricing_analytics.silver.daily_pricing_silver"
   ]
  },
  {
   "cell_type": "code",
   "execution_count": 0,
   "metadata": {
    "application/vnd.databricks.v1+cell": {
     "cellMetadata": {
      "byteLimit": 2048000,
      "rowLimit": 10000
     },
     "inputWidgets": {},
     "nuid": "274b87b7-efd5-4217-8e85-f06b712cb8dd",
     "showTitle": false,
     "tableResultSettingsMap": {},
     "title": ""
    }
   },
   "outputs": [],
   "source": [
    "SELECT nvl(max(PROCESSED_TABLE_DATETIME),'1900-01-01') FROM pricing_analytics.processrunlogs.deltalakehouse_process_runs WHERE PROCESS_NAME='daily_pricing_silver' AND PROCESS_STATUS='Completed'"
   ]
  }
 ],
 "metadata": {
  "application/vnd.databricks.v1+notebook": {
   "computePreferences": null,
   "dashboards": [],
   "environmentMetadata": {
    "base_environment": "",
    "environment_version": "2"
   },
   "inputWidgetPreferences": null,
   "language": "sql",
   "notebookMetadata": {
    "pythonIndentUnit": 4
   },
   "notebookName": "02-Transform-Daily-Pricing-CSV-To-DELTA-Table_Clone",
   "widgets": {}
  },
  "language_info": {
   "name": "sql"
  }
 },
 "nbformat": 4,
 "nbformat_minor": 0
}
