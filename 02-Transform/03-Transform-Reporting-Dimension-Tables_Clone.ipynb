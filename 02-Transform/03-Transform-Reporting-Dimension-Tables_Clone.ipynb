{
 "cells": [
  {
   "cell_type": "markdown",
   "metadata": {
    "application/vnd.databricks.v1+cell": {
     "cellMetadata": {},
     "inputWidgets": {},
     "nuid": "47c1b947-39e3-4db5-b9a5-1fb5df3bb92f",
     "showTitle": false,
     "tableResultSettingsMap": {},
     "title": ""
    }
   },
   "source": [
    "| SOURCE_TABLE_NAME | SOURCE_COLUMN_NAME | REPORTING_TABLE_NAME | REPORTING_COLUMN_NAME | TRANSFORMATION RULE | CONDITIONS |\n",
    "| --- | --- |--- | --- |--- |--- |\n",
    "| silver.daily_pricing_silver\t| state_name\t|***REPORTING_DIM_STATE_GOLD***\t|***STATE_NAME***\t| Select Unique state_name Values | Identify New/Changed Records From the Source Table . Use ***lakehouse_updated_date Column*** in source table to Identify New/Changed Records|\n",
    "| DERIVED\t| DERIVED\t|***REPORTING_DIM_STATE_GOLD***\t| ***STATE_ID***\t| Generate Running Sequnece ID For Each Unique state_name Values | 1. Make Sure No Duplicate State_Name Values Loaded 2.  When loading new State_Name values in subsquent run , STATE_ID values need to be generated on top of existing MAX(STATE_ID)   |\n",
    "| DERIVED\t| DERIVED\t|***REPORTING_DIM_STATE_GOLD***\t| ***lakehouse_inserted_date***\t| Load current_timestamp() | |\n",
    "| DERIVED\t| DERIVED\t|***REPORTING_DIM_STATE_GOLD***\t| ***lakehouse_updated_date***\t| Load current_timestamp() | |"
   ]
  },
  {
   "cell_type": "code",
   "execution_count": 0,
   "metadata": {
    "application/vnd.databricks.v1+cell": {
     "cellMetadata": {
      "byteLimit": 2048000,
      "rowLimit": 10000
     },
     "inputWidgets": {},
     "nuid": "053d0ece-9170-4863-b2c1-5803cea93d33",
     "showTitle": false,
     "tableResultSettingsMap": {},
     "title": ""
    }
   },
   "outputs": [],
   "source": [
    "USE CATALOG pricing_analytics;\n",
    "\n",
    "CREATE OR REPLACE TABLE silver.reporting_dim_state_stage_1 AS\n",
    "SELECT \n",
    "  DISTINCT STATE_NAME\n",
    "FROM  \n",
    "  silver.daily_pricing_silver\n",
    "WHERE \n",
    "  lake_house_updated_date>(SELECT nvl(max(PROCESSED_TABLE_DATETIME),'1900-01-01') FROM processrunlogs.DELTALAKEHOUSE_PROCESS_RUNS WHERE PROCESS_NAME='reportingDimensionTablesLoad' AND process_status='Completed')"
   ]
  },
  {
   "cell_type": "code",
   "execution_count": 0,
   "metadata": {
    "application/vnd.databricks.v1+cell": {
     "cellMetadata": {
      "byteLimit": 2048000,
      "rowLimit": 10000
     },
     "inputWidgets": {},
     "nuid": "a133b203-be35-4177-88c1-f5bbb1e6bac8",
     "showTitle": false,
     "tableResultSettingsMap": {},
     "title": ""
    }
   },
   "outputs": [],
   "source": [
    "SELECT \n",
    "  STATE_NAME,\n",
    "  ROW_NUMBER() OVER (ORDER BY STATE_NAME) AS STATE_ID,\n",
    "  current_timestamp(),\n",
    "  current_timestamp\n",
    "FROM  \n",
    "  silver.reporting_dim_state_stage_1 "
   ]
  },
  {
   "cell_type": "code",
   "execution_count": 0,
   "metadata": {
    "application/vnd.databricks.v1+cell": {
     "cellMetadata": {
      "byteLimit": 2048000,
      "rowLimit": 10000
     },
     "inputWidgets": {},
     "nuid": "e14e0f7c-cc79-4cdc-9f68-4f7e4b7cae41",
     "showTitle": false,
     "tableResultSettingsMap": {},
     "title": ""
    }
   },
   "outputs": [],
   "source": [
    "INSERT INTO gold.reporting_dim_state_gold\n",
    "SELECT \n",
    "  STATE_NAME,\n",
    "  ROW_NUMBER() OVER (ORDER BY STATE_NAME) AS STATE_ID,\n",
    "  current_timestamp(),\n",
    "  current_timestamp\n",
    "FROM  \n",
    "  silver.reporting_dim_state_stage_1 "
   ]
  },
  {
   "cell_type": "code",
   "execution_count": 0,
   "metadata": {
    "application/vnd.databricks.v1+cell": {
     "cellMetadata": {
      "byteLimit": 2048000,
      "rowLimit": 10000
     },
     "inputWidgets": {},
     "nuid": "3dd2ce40-a70b-4e80-bda2-3f7f2727c4ec",
     "showTitle": false,
     "tableResultSettingsMap": {},
     "title": ""
    }
   },
   "outputs": [],
   "source": [
    "SELECT * FROM GOLD.reporting_dim_state_gold ORDER BY STATE_ID"
   ]
  },
  {
   "cell_type": "code",
   "execution_count": 0,
   "metadata": {
    "application/vnd.databricks.v1+cell": {
     "cellMetadata": {
      "byteLimit": 2048000,
      "rowLimit": 10000
     },
     "inputWidgets": {},
     "nuid": "c999b87c-215d-4c93-81a0-364d9a371039",
     "showTitle": false,
     "tableResultSettingsMap": {},
     "title": ""
    }
   },
   "outputs": [],
   "source": [
    "INSERT INTO gold.reporting_dim_state_gold\n",
    "SELECT \n",
    "  STATE_NAME,\n",
    "  ROW_NUMBER() OVER (ORDER BY STATE_NAME) AS STATE_ID,\n",
    "  current_timestamp(),\n",
    "  current_timestamp\n",
    "FROM  \n",
    "  silver.reporting_dim_state_stage_1 "
   ]
  },
  {
   "cell_type": "code",
   "execution_count": 0,
   "metadata": {
    "application/vnd.databricks.v1+cell": {
     "cellMetadata": {
      "byteLimit": 2048000,
      "rowLimit": 10000
     },
     "inputWidgets": {},
     "nuid": "e40eb941-cc6c-4e2c-8d66-4d6a0d23e14a",
     "showTitle": false,
     "tableResultSettingsMap": {},
     "title": ""
    }
   },
   "outputs": [],
   "source": [
    "SELECT * FROM GOLD.reporting_dim_state_gold ORDER BY STATE_ID"
   ]
  },
  {
   "cell_type": "code",
   "execution_count": 0,
   "metadata": {
    "application/vnd.databricks.v1+cell": {
     "cellMetadata": {
      "byteLimit": 2048000,
      "rowLimit": 10000
     },
     "inputWidgets": {},
     "nuid": "3eed2f3f-7a6f-4ac2-a5f7-1ca166267d34",
     "showTitle": false,
     "tableResultSettingsMap": {},
     "title": ""
    }
   },
   "outputs": [],
   "source": [
    "SELECT \n",
    "  silverDim.STATE_NAME,\n",
    "  ROW_NUMBER() OVER (ORDER BY silverDim.STATE_NAME) AS STATE_ID,\n",
    "  current_timestamp() AS lakehouse_inserted_date,\n",
    "  current_timestamp() AS lakehouse_updated_date\n",
    "  FROM \n",
    "    silver.reporting_dim_state_stage_1 AS silverDim\n",
    "  LEFT OUTER JOIN\n",
    "    gold.reporting_dim_state_gold AS goldDim\n",
    "  ON\n",
    "    silverDim.STATE_NAME=goldDim.STATE_NAME\n",
    "  --WHERE goldDim.STATE_NAME IS NULL"
   ]
  },
  {
   "cell_type": "code",
   "execution_count": 0,
   "metadata": {
    "application/vnd.databricks.v1+cell": {
     "cellMetadata": {
      "byteLimit": 2048000,
      "rowLimit": 10000
     },
     "inputWidgets": {},
     "nuid": "bccbf47c-1f14-473a-822c-080b6e9c39f0",
     "showTitle": false,
     "tableResultSettingsMap": {},
     "title": ""
    }
   },
   "outputs": [],
   "source": [
    "SELECT \n",
    "  silverDim.STATE_NAME,\n",
    "  ROW_NUMBER() OVER (ORDER BY silverDim.STATE_NAME) AS STATE_ID,\n",
    "  current_timestamp() AS lakehouse_inserted_date,\n",
    "  current_timestamp() AS lakehouse_updated_date\n",
    "  FROM \n",
    "    silver.reporting_dim_state_stage_1 AS silverDim\n",
    "  LEFT OUTER JOIN\n",
    "    gold.reporting_dim_state_gold AS goldDim\n",
    "  ON\n",
    "    silverDim.STATE_NAME=goldDim.STATE_NAME\n",
    "WHERE goldDim.STATE_NAME IS NULL"
   ]
  },
  {
   "cell_type": "code",
   "execution_count": 0,
   "metadata": {
    "application/vnd.databricks.v1+cell": {
     "cellMetadata": {
      "byteLimit": 2048000,
      "rowLimit": 10000
     },
     "inputWidgets": {},
     "nuid": "c6d59e05-be37-42f7-9ee9-3b68c5c37439",
     "showTitle": false,
     "tableResultSettingsMap": {},
     "title": ""
    }
   },
   "outputs": [],
   "source": [
    "TRUNCATE TABLE gold.reporting_dim_state_gold"
   ]
  },
  {
   "cell_type": "code",
   "execution_count": 0,
   "metadata": {
    "application/vnd.databricks.v1+cell": {
     "cellMetadata": {
      "byteLimit": 2048000,
      "rowLimit": 10000
     },
     "inputWidgets": {},
     "nuid": "72810ab3-5d7a-4018-be53-63e1055a8071",
     "showTitle": false,
     "tableResultSettingsMap": {},
     "title": ""
    }
   },
   "outputs": [],
   "source": [
    "DELETE FROM gold.reporting_dim_state_gold WHERE STATE_ID IN(24,25)"
   ]
  },
  {
   "cell_type": "code",
   "execution_count": 0,
   "metadata": {
    "application/vnd.databricks.v1+cell": {
     "cellMetadata": {
      "byteLimit": 2048000,
      "rowLimit": 10000
     },
     "inputWidgets": {},
     "nuid": "ca488ae5-5a96-4195-ae3a-a0d5519f0520",
     "showTitle": false,
     "tableResultSettingsMap": {},
     "title": ""
    }
   },
   "outputs": [],
   "source": [
    "SELECT \n",
    "  silverDim.STATE_NAME,\n",
    "  ROW_NUMBER() OVER (ORDER BY silverDim.STATE_NAME) AS STATE_ID,\n",
    "  current_timestamp() AS lakehouse_inserted_date,\n",
    "  current_timestamp() AS lakehouse_updated_date\n",
    "  FROM \n",
    "    silver.reporting_dim_state_stage_1 AS silverDim\n",
    "  LEFT OUTER JOIN\n",
    "    gold.reporting_dim_state_gold AS goldDim\n",
    "  ON\n",
    "    silverDim.STATE_NAME=goldDim.STATE_NAME\n",
    "WHERE goldDim.STATE_NAME IS NULL"
   ]
  },
  {
   "cell_type": "code",
   "execution_count": 0,
   "metadata": {
    "application/vnd.databricks.v1+cell": {
     "cellMetadata": {
      "byteLimit": 2048000,
      "rowLimit": 10000
     },
     "inputWidgets": {},
     "nuid": "ee20c065-b107-43cf-bef4-69e2d20cbaec",
     "showTitle": false,
     "tableResultSettingsMap": {},
     "title": ""
    }
   },
   "outputs": [],
   "source": [
    "CREATE OR REPLACE TABLE silver.reporting_dim_state_stage_2 AS\n",
    "SELECT \n",
    "  silverDim.STATE_NAME,\n",
    "  ROW_NUMBER() OVER (ORDER BY silverDim.STATE_NAME) AS STATE_ID,\n",
    "  current_timestamp() AS lakehouse_inserted_date,\n",
    "  current_timestamp() AS lakehouse_updated_date\n",
    "  FROM \n",
    "    silver.reporting_dim_state_stage_1 AS silverDim\n",
    "  LEFT OUTER JOIN\n",
    "    gold.reporting_dim_state_gold AS goldDim\n",
    "  ON\n",
    "    silverDim.STATE_NAME=goldDim.STATE_NAME\n",
    "WHERE goldDim.STATE_NAME IS NULL"
   ]
  },
  {
   "cell_type": "code",
   "execution_count": 0,
   "metadata": {
    "application/vnd.databricks.v1+cell": {
     "cellMetadata": {
      "byteLimit": 2048000,
      "rowLimit": 10000
     },
     "inputWidgets": {},
     "nuid": "fa49b952-3011-41b0-9a8f-83fdf6eb988b",
     "showTitle": false,
     "tableResultSettingsMap": {},
     "title": ""
    }
   },
   "outputs": [],
   "source": [
    "SELECT * FROM silver.reporting_dim_state_stage_2"
   ]
  },
  {
   "cell_type": "code",
   "execution_count": 0,
   "metadata": {
    "application/vnd.databricks.v1+cell": {
     "cellMetadata": {
      "byteLimit": 2048000,
      "rowLimit": 10000
     },
     "inputWidgets": {},
     "nuid": "f59df05b-3911-4013-af19-797d7e393a00",
     "showTitle": false,
     "tableResultSettingsMap": {},
     "title": ""
    }
   },
   "outputs": [],
   "source": [
    "SELECT \n",
    "  silverDim.STATE_NAME,\n",
    "  silverDim.STATE_ID + PREV_MAX_SK_ID AS STATE_ID\n",
    " FROM \n",
    "  silver.reporting_dim_state_stage_2 silverDim\n",
    " CROSS JOIN (SELECT MAX(STATE_ID) AS PREV_MAX_SK_ID FROM gold.reporting_dim_state_gold) goldDim"
   ]
  },
  {
   "cell_type": "code",
   "execution_count": 0,
   "metadata": {
    "application/vnd.databricks.v1+cell": {
     "cellMetadata": {
      "byteLimit": 2048000,
      "rowLimit": 10000
     },
     "inputWidgets": {},
     "nuid": "81d101b2-4b35-46f7-95a7-104bd56c7a97",
     "showTitle": false,
     "tableResultSettingsMap": {},
     "title": ""
    }
   },
   "outputs": [],
   "source": [
    "SELECT \n",
    "  silverDim.STATE_NAME,\n",
    "  silverDim.STATE_ID + PREV_MAX_SK_ID AS STATE_ID,\n",
    "  current_timestamp() AS lakehouse_inserted_date,\n",
    "  current_timestamp() AS lakehouse_updated_date\n",
    " FROM \n",
    "  silver.reporting_dim_state_stage_2 silverDim\n",
    " CROSS JOIN (SELECT NVL(MAX(STATE_ID),0) AS PREV_MAX_SK_ID FROM gold.reporting_dim_state_gold) goldDim"
   ]
  },
  {
   "cell_type": "code",
   "execution_count": 0,
   "metadata": {
    "application/vnd.databricks.v1+cell": {
     "cellMetadata": {
      "byteLimit": 2048000,
      "rowLimit": 10000
     },
     "inputWidgets": {},
     "nuid": "a688a038-bf7e-4bc7-b0b7-4faa65c11931",
     "showTitle": false,
     "tableResultSettingsMap": {},
     "title": ""
    }
   },
   "outputs": [],
   "source": [
    "CREATE OR REPLACE TABLE silver.reporting_dim_state_stage_3 AS\n",
    "SELECT \n",
    "  silverDim.STATE_NAME,\n",
    "  silverDim.STATE_ID + PREV_MAX_SK_ID AS STATE_ID,\n",
    "  current_timestamp() AS lakehouse_inserted_date,\n",
    "  current_timestamp() AS lakehouse_updated_date\n",
    " FROM \n",
    "  silver.reporting_dim_state_stage_2 silverDim\n",
    " CROSS JOIN (SELECT NVL(MAX(STATE_ID),0) AS PREV_MAX_SK_ID FROM gold.reporting_dim_state_gold) goldDim"
   ]
  },
  {
   "cell_type": "code",
   "execution_count": 0,
   "metadata": {
    "application/vnd.databricks.v1+cell": {
     "cellMetadata": {
      "byteLimit": 2048000,
      "rowLimit": 10000
     },
     "inputWidgets": {},
     "nuid": "14a5d70e-7087-4bdc-ac7f-a352c7090afb",
     "showTitle": false,
     "tableResultSettingsMap": {},
     "title": ""
    }
   },
   "outputs": [],
   "source": [
    "TRUNCATE TABLE gold.reporting_dim_state_gold"
   ]
  },
  {
   "cell_type": "code",
   "execution_count": 0,
   "metadata": {
    "application/vnd.databricks.v1+cell": {
     "cellMetadata": {},
     "inputWidgets": {},
     "nuid": "782308d4-5d74-4a59-b672-28672756d1b5",
     "showTitle": false,
     "tableResultSettingsMap": {},
     "title": ""
    }
   },
   "outputs": [],
   "source": [
    "INSERT INTO gold.reporting_dim_state_gold\n",
    "SELECT \n",
    "  STATE_NAME,\n",
    "  STATE_ID,\n",
    "  current_timestamp(),\n",
    "  current_timestamp()\n",
    "FROM \n",
    "silver.reporting_dim_state_stage_3"
   ]
  }
 ],
 "metadata": {
  "application/vnd.databricks.v1+notebook": {
   "computePreferences": null,
   "dashboards": [],
   "environmentMetadata": {
    "base_environment": "",
    "environment_version": "2"
   },
   "inputWidgetPreferences": null,
   "language": "sql",
   "notebookMetadata": {},
   "notebookName": "03-Transform-Reporting-Dimension-Tables_Clone",
   "widgets": {}
  },
  "language_info": {
   "name": "sql"
  }
 },
 "nbformat": 4,
 "nbformat_minor": 0
}
