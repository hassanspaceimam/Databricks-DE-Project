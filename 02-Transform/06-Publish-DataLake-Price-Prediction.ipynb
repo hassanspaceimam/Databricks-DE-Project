{
 "cells": [
  {
   "cell_type": "markdown",
   "metadata": {
    "application/vnd.databricks.v1+cell": {
     "cellMetadata": {},
     "inputWidgets": {},
     "nuid": "b3c63441-c9df-4074-b9a9-d65037856cea",
     "showTitle": false,
     "tableResultSettingsMap": {},
     "title": ""
    }
   },
   "source": [
    "##### Description:\n",
    "Integrate Daily Pricing Data , Geolocation Data and Weather Data to Publish in Gold Layer as a source data for Future Price Prediction Using AI\n",
    "\n",
    "##### Source Tables:\n",
    "pricing_analytics.silver.daily_pricing_silver , pricing_analytics.silver.geo_location_silver , pricing_analytics.silver.weather_data_silver\n",
    "\n",
    "##### Target Table name : DataLake_Price-Prediction-Gold\n",
    "###### Target Table Column Mappings:\n",
    "| SOURCE_TABLE_NAME | SOURCE_COLUMN_NAME | DATALAKE_TABLE_NAME | DATALAKE_COLUMN_NAME | TRANSFORMATION RULE | CONDITIONS |\n",
    "| --- | --- |--- | --- |--- |--- |\n",
    "| silver.daily_pricing_silver\t| DATE_OF_PRICING\t|datalake_price_prediction_gold| DATE_OF_PRICING| Direct Mapping |  |\n",
    "| silver.daily_pricing_silver\t| STATE_NAME\t|datalake_price_prediction_gold| STATE_NAME| Direct Mapping |  |\n",
    "| silver.daily_pricing_silver\t| MARKET_NAME\t|datalake_price_prediction_gold|  MARKET_NAME\t| Direct Mapping |  |\n",
    "| silver.daily_pricing_silver\t| PRODUCTGROUP_NAME |datalake_price_prediction_gold| PRODUCT_ID| Direct Mapping |  |\n",
    "| silver.daily_pricing_silver\t| PRODUCT_NAME\t|datalake_price_prediction_gold| PRODUCT_ID| Direct Mapping |  |\n",
    "| silver.daily_pricing_silver\t| VARIETY\t|datalake_price_prediction_gold| VARIETY_ID|Direct Mapping |  |\n",
    "| silver.daily_pricing_silver\t| ROW_ID\t|datalake_price_prediction_gold| ROW_ID| Direct Mapping |  |\n",
    "| silver.daily_pricing_silver\t| ARRIVAL_IN_TONNES\t|datalake_price_prediction_gold| ARRIVAL_IN_TONNES| Direct Mapping |  |\n",
    "| silver.daily_pricing_silver\t| MINIMUM_PRICE\t|datalake_price_prediction_gold| MINIMUM_PRICE| Direct Mapping |  |\n",
    "| silver.daily_pricing_silver\t| MAXIMUM_PRICE\t|datalake_price_prediction_gold| MAXIMUM_PRICE| Direct Mapping |  |\n",
    "| silver.daily_pricing_silver\t| MODAL_PRICE\t|datalake_price_prediction_gold| MODAL_PRICE| Direct Mapping |  |\n",
    "| silver.geo_location_silver \t| latitude\t|datalake_price_prediction_gold| MARKET_LATITUDE| Change the Source Column Name | daily_pricing_silver.STATE_NAME = geo_location_silver.stateName AND daily_pricing_silver.MARKET_NAME = geo_location_silver.marketName AND geo_location_silver.countryName = 'India' |\n",
    "| silver.geo_location_silver \t| longitude\t|datalake_price_prediction_gold| MARKET_LONGITUDE| Change the Source Column Name |  |\n",
    "| silver.geo_location_silver \t| population\t|datalake_price_prediction_gold| MARKET_POPULATION| Change the Source Column Name  |  |\n",
    "| silver.weather_data_silver \t| unitOfTemparature\t|datalake_price_prediction_gold| TEMPARATURE_UNIT| Change the Source Column Name  | daily_pricing_silver.MARKET_NAME = weather_data_silver.marketName AND daily_pricing_silver.DATE_OF_PRICING = weather_data_silver.weatherDate |\n",
    "| silver.weather_data_silver \t| maximumTemparature\t|datalake_price_prediction_gold| MARKET_MAX_TEMPARATURE | Change the Source Column Name  |  |\n",
    "| silver.weather_data_silver \t| minimumTemparature\t|datalake_price_prediction_gold| MARKET_MIN_TEMPARATURE | Change the Source Column Name  |  |\n",
    "| silver.weather_data_silver \t| unitOfRainFall\t|datalake_price_prediction_gold| RAINFALL_UNIT| Change the Source Column Name  |  |\n",
    "| silver.weather_data_silver \t| rainFall\t|datalake_price_prediction_gold| MARKET_DAILY_RAINFALL| Change the Source Column Name  |  |\n",
    "| DERIVED\t| DERIVED\t|datalake_price_prediction_gold\t| lakehouse_inserted_date\t| Load current_timestamp() | |\n",
    "| DERIVED\t| DERIVED\t|datalake_price_prediction_gold\t| lakehouse_updated_date\t| Load current_timestamp() | |\n",
    "\n",
    "\n",
    "- <a href=\"https://docs.databricks.com/en/sql/language-manual/delta-merge-into.html\" target=\"_blank\">**MERGE TABLE** </a>"
   ]
  },
  {
   "cell_type": "markdown",
   "metadata": {
    "application/vnd.databricks.v1+cell": {
     "cellMetadata": {},
     "inputWidgets": {},
     "nuid": "892c34e4-0eee-4c04-89e7-17702067362c",
     "showTitle": false,
     "tableResultSettingsMap": {},
     "title": ""
    }
   },
   "source": [
    "##### Step 1: Create and Load Gold Layer Price Prediction Table\n",
    "\n",
    "1. SELECT the source columns mentioned above from the source table pricing_analytics.silver.daily_pricing_silver\n",
    "1. SELECT the source columns mentioned above from the source table pricing_analytics.silver.geo_location_silver and changes source column names to target column names as mentioned above mapping\n",
    "1. Include JOIN conditions between pricing_analytics.silver.daily_pricing_silver table and pricing_analytics.silver.geo_location_silver Using the Join conditions mentioned in above mapping\n",
    "1. SELECT the source columns mentioned above from the source table pricing_analytics.silver.weather_data_silver  and changes source column names to target column names as mentioned above mapping\n",
    "1. Include JOIN conditions between pricing_analytics.silver.daily_pricing_silver table and pricing_analytics.silver.weather_data_silver  Using the Join conditions mentioned in above mapping\n",
    "1. Map current_timestamp() function to additional new columns lakehouse_inserted_date and lakehouse_updated_date\n",
    "1. CREATE the target table to store the output of SELECT statement to publish the transformed data."
   ]
  },
  {
   "cell_type": "code",
   "execution_count": 0,
   "metadata": {
    "application/vnd.databricks.v1+cell": {
     "cellMetadata": {
      "byteLimit": 2048000,
      "rowLimit": 10000
     },
     "inputWidgets": {},
     "nuid": "b7c8364c-69c8-4da6-8f27-787b9b919dbe",
     "showTitle": false,
     "tableResultSettingsMap": {},
     "title": ""
    }
   },
   "outputs": [],
   "source": [
    "CREATE OR REPLACE TABLE pricing_analytics.gold.DataLake_Price-Prediction-Gold AS\n",
    "SELECT DISTINCT\n",
    "dailypricing.DATE_OF_PRICING\n",
    ",dailypricing.ROW_ID\n",
    ",dailypricing.STATE_NAME\n",
    ",dailypricing.MARKET_NAME\n",
    ",dailypricing.PRODUCTGROUP_NAME\n",
    ",dailypricing.PRODUCT_NAME\n",
    ",dailypricing.VARIETY\n",
    ",dailypricing.ORIGIN\n",
    ",dailypricing.ARRIVAL_IN_TONNES\n",
    ",dailypricing.MINIMUM_PRICE\n",
    ",dailypricing.MAXIMUM_PRICE\n",
    ",dailypricing.MODAL_PRICE\n",
    ",geolocation.latitude as MARKET_LATITUDE\n",
    ",geolocation.longitude as MARKET_LONGITUDE\n",
    ",geolocation.population as MARKET_POPULATION\n",
    ",weatherdata.unitOfTemparature as TEMPARATURE_UNIT\n",
    ",weatherdata.maximumTemparature as MARKET_MAX_TEMPARATURE\n",
    ",weatherdata.minimumTemparature as MARKET_MIN_TEMPARATURE\n",
    ",weatherdata.unitOfRainFall as RAINFALL_UNIT\n",
    ",weatherdata.rainFall as MARKET_DAILY_RAINFALL\n",
    ",current_timestamp as lakehouse_inserted_date\n",
    ",current_timestamp as lakehouse_updated_date\n",
    "FROM pricing_analytics.silver.daily_pricing_silver dailypricing\n",
    "INNER JOIN pricing_analytics.silver.geo_location_silver geolocation\n",
    "ON STATE_NAME = geolocation.stateName\n",
    "AND MARKET_NAME = geolocation.marketName\n",
    "AND countryName = 'India'\n",
    "INNER JOIN pricing_analytics.silver.weather_data_silver weatherdata\n",
    "ON weatherdata.marketName = MARKET_NAME\n",
    "AND DATE_OF_PRICING = weatherdata.weatherDate"
   ]
  },
  {
   "cell_type": "markdown",
   "metadata": {
    "application/vnd.databricks.v1+cell": {
     "cellMetadata": {},
     "inputWidgets": {},
     "nuid": "0bb03662-0b3d-49b3-8d2e-03a6953eee54",
     "showTitle": false,
     "tableResultSettingsMap": {},
     "title": ""
    }
   },
   "source": [
    "##### Step 2: Test The Data Stored in Gold Layer Table And Highlight Any Data Quality Issues\n",
    "\n",
    "1. Write SELECT query to select the data from pricing_analytics.gold.DataLake_Price-Prediction_Gold table\n",
    "1. Check the data for any one of the Market Name and make sure there are no data quality issues\n"
   ]
  },
  {
   "cell_type": "code",
   "execution_count": 0,
   "metadata": {
    "application/vnd.databricks.v1+cell": {
     "cellMetadata": {
      "byteLimit": 2048000,
      "rowLimit": 10000
     },
     "inputWidgets": {},
     "nuid": "e4efcfbc-7bf7-4ba7-bb3a-1e1a765b79fb",
     "showTitle": false,
     "tableResultSettingsMap": {},
     "title": ""
    }
   },
   "outputs": [],
   "source": [
    "SELECT * FROM pricing_analytics.gold.PRICE_PREDICTION_GOLD\n",
    "--WHERE MARKET_POPULATION IS NOT NULL"
   ]
  }
 ],
 "metadata": {
  "application/vnd.databricks.v1+notebook": {
   "computePreferences": null,
   "dashboards": [],
   "environmentMetadata": {
    "base_environment": "",
    "environment_version": "2"
   },
   "inputWidgetPreferences": null,
   "language": "sql",
   "notebookMetadata": {
    "pythonIndentUnit": 4
   },
   "notebookName": "06-Publish-DataLake-Price-Prediction",
   "widgets": {}
  },
  "language_info": {
   "name": "sql"
  }
 },
 "nbformat": 4,
 "nbformat_minor": 0
}
