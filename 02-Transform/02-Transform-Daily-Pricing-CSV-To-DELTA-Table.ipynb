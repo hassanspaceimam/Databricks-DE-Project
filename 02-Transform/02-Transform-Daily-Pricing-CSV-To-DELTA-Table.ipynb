{
 "cells": [
  {
   "cell_type": "code",
   "execution_count": 0,
   "metadata": {
    "application/vnd.databricks.v1+cell": {
     "cellMetadata": {
      "byteLimit": 2048000,
      "rowLimit": 10000
     },
     "inputWidgets": {},
     "nuid": "34052fe3-4b0d-4443-a339-14f137656c09",
     "showTitle": false,
     "tableResultSettingsMap": {},
     "title": ""
    }
   },
   "outputs": [],
   "source": [
    "USE CATALOG pricing_analytics;\n",
    "INSERT INTO silver.daily_pricing_silver\n",
    "\n",
    "SELECT\n",
    "to_date(DATE_OF_PRICING,'dd/MM/yyyy'),\n",
    "cast(ROW_ID AS bigint),\n",
    "STATE_NAME,\n",
    "MARKET_NAME,\n",
    "PRODUCTGROUP_NAME,\n",
    "PRODUCT_NAME,\n",
    "VARIETY,\n",
    "ORIGIN,\n",
    "cast(ARRIVAL_IN_TONNES AS decimal(18,2)),\n",
    "cast(MINIMUM_PRICE AS decimal(36,2)),\n",
    "cast(MAXIMUM_PRICE AS decimal(36,2)),\n",
    "cast(MODAL_PRICE AS decimal(36,2)),\n",
    "source_file_load_date,\n",
    "current_timestamp(),\n",
    "current_timestamp()\n",
    "FROM\n",
    "pricing_analytics.bronze.daily_pricing \n",
    "WHERE source_file_load_date> (SELECT nvl(max(PROCESSED_TABLE_DATETIME),'1900-01-01') FROM pricing_analytics.processrunlogs.deltalakehouse_process_runs WHERE PROCESS_NAME='daily_pricing_silver' AND PROCESS_STATUS='Completed')"
   ]
  },
  {
   "cell_type": "code",
   "execution_count": 0,
   "metadata": {
    "application/vnd.databricks.v1+cell": {
     "cellMetadata": {
      "byteLimit": 2048000,
      "rowLimit": 10000
     },
     "inputWidgets": {},
     "nuid": "654e4852-dc74-46d8-b8af-b9748dae031e",
     "showTitle": false,
     "tableResultSettingsMap": {},
     "title": ""
    }
   },
   "outputs": [],
   "source": [
    "INSERT INTO pricing_analytics.processrunlogs.deltalakehouse_process_runs (PROCESS_NAME, PROCESSED_TABLE_DATETIME,PROCESS_STATUS)\n",
    "SELECT 'daily_pricing_silver', max(source_file_load_date),'Completed' FROM pricing_analytics.silver.daily_pricing_silver"
   ]
  }
 ],
 "metadata": {
  "application/vnd.databricks.v1+notebook": {
   "computePreferences": null,
   "dashboards": [],
   "environmentMetadata": {
    "base_environment": "",
    "environment_version": "2"
   },
   "inputWidgetPreferences": null,
   "language": "sql",
   "notebookMetadata": {
    "pythonIndentUnit": 4
   },
   "notebookName": "02-Transform-Daily-Pricing-CSV-To-DELTA-Table",
   "widgets": {}
  },
  "language_info": {
   "name": "sql"
  }
 },
 "nbformat": 4,
 "nbformat_minor": 0
}
